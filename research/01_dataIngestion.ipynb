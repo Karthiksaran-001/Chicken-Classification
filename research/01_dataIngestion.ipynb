{
 "cells": [
  {
   "cell_type": "code",
   "execution_count": 28,
   "id": "3b5e891b",
   "metadata": {},
   "outputs": [],
   "source": [
    "import os\n",
    "import boto3"
   ]
  },
  {
   "cell_type": "code",
   "execution_count": 6,
   "id": "3caeba27",
   "metadata": {},
   "outputs": [
    {
     "data": {
      "text/plain": [
       "'f:\\\\DS-Projects\\\\Tom-Jerry_Classification\\\\research'"
      ]
     },
     "execution_count": 6,
     "metadata": {},
     "output_type": "execute_result"
    }
   ],
   "source": [
    "%pwd"
   ]
  },
  {
   "cell_type": "code",
   "execution_count": 7,
   "id": "e6c081a1",
   "metadata": {},
   "outputs": [],
   "source": [
    "os.chdir(\"../\")"
   ]
  },
  {
   "cell_type": "code",
   "execution_count": 8,
   "id": "1b56a37a",
   "metadata": {},
   "outputs": [
    {
     "data": {
      "text/plain": [
       "'f:\\\\DS-Projects\\\\Tom-Jerry_Classification'"
      ]
     },
     "execution_count": 8,
     "metadata": {},
     "output_type": "execute_result"
    }
   ],
   "source": [
    "%pwd"
   ]
  },
  {
   "cell_type": "code",
   "execution_count": 1,
   "id": "8fee8b4c",
   "metadata": {},
   "outputs": [],
   "source": [
    "from dataclasses import dataclass\n",
    "from pathlib import Path\n",
    "\n",
    "@dataclass(frozen=True)\n",
    "class DataIngestionConfig:\n",
    "    root_dir: Path\n",
    "    aws_access_key: str\n",
    "    aws_secret_key: str\n",
    "    bucket_name: str\n",
    "    bucket_filename: str\n",
    "    local_data_file: str\n",
    "    unzip_dir: Path"
   ]
  },
  {
   "cell_type": "code",
   "execution_count": 30,
   "id": "901f6b1b",
   "metadata": {},
   "outputs": [],
   "source": [
    "from CNNClassifier.constant import CONFIG_FILE_PATH , PARAMS_FILE_PATH , AWS_ACCESS_KEY , AWS_SECRET_KEY\n",
    "from CNNClassifier.utils.common import read_yaml , create_directories"
   ]
  },
  {
   "cell_type": "code",
   "execution_count": 32,
   "id": "49c4bb5f",
   "metadata": {},
   "outputs": [],
   "source": [
    "class ConfigurationManager:\n",
    "    def __init__(\n",
    "        self,\n",
    "        config_filepath = CONFIG_FILE_PATH,\n",
    "        params_filepath = PARAMS_FILE_PATH):\n",
    "\n",
    "        self.config = read_yaml(config_filepath)\n",
    "        self.params = read_yaml(params_filepath)\n",
    "\n",
    "        create_directories([self.config.artifacts_root])\n",
    "\n",
    "\n",
    "    \n",
    "    def get_data_ingestion_config(self) -> DataIngestionConfig:\n",
    "        config = self.config.data_ingestion\n",
    "        create_directories([config.root_directory])\n",
    "        \n",
    "\n",
    "        data_ingestion_config = DataIngestionConfig(\n",
    "            root_dir=config.root_directory,\n",
    "            aws_access_key = AWS_ACCESS_KEY,\n",
    "            aws_secret_key = AWS_SECRET_KEY,\n",
    "            bucket_name= config.bucket_name,\n",
    "            bucket_filename= config.bucket_file_name,\n",
    "            # source_url=config.source_url,\n",
    "            local_data_file=config.local_data_file,\n",
    "            unzip_dir=config.unzip_dir \n",
    "        )\n",
    "\n",
    "        return data_ingestion_config\n",
    "      \n",
    "    "
   ]
  },
  {
   "cell_type": "code",
   "execution_count": 33,
   "id": "3a81ed2e",
   "metadata": {},
   "outputs": [],
   "source": [
    "import os\n",
    "# import urllib.request as request\n",
    "from CNNClassifier import logger\n",
    "import zipfile\n",
    "from CNNClassifier.utils.common import get_size"
   ]
  },
  {
   "cell_type": "code",
   "execution_count": 34,
   "id": "3a079449",
   "metadata": {},
   "outputs": [],
   "source": [
    "class DataIngestion:\n",
    "    def __init__(self, config: DataIngestionConfig):\n",
    "        self.config = config\n",
    "\n",
    "    def download_file(self):\n",
    "        if not os.path.exists(self.config.local_data_file):\n",
    "            s3_client = boto3.client('s3', aws_access_key_id= self.config.aws_access_key,\n",
    "                         aws_secret_access_key=self.config.aws_secret_key)\n",
    "            s3_client.download_file(self.config.bucket_name, self.config.bucket_filename,  self.config.local_data_file)\n",
    "            logger.info(f\"{self.config.local_data_file} download from S3 ! with following bucket: {self.config.bucket_name}\")            \n",
    "        else:\n",
    "            logger.info(f\"File already exists of size: {get_size(Path(self.config.local_data_file))}\")  \n",
    "\n",
    "            \n",
    "    def extract_zip_file(self):\n",
    "        unzip_path = self.config.unzip_dir\n",
    "        os.makedirs(unzip_path , exist_ok=True)\n",
    "        with zipfile.ZipFile(self.config.local_data_file, 'r') as zip_ref:\n",
    "            zip_ref.extractall(unzip_path)\n",
    "            logger.info(\"Extracting the Zip Files and stores inside the Artifcats Folder\")\n",
    "        "
   ]
  },
  {
   "cell_type": "code",
   "execution_count": 35,
   "id": "c8e4e60b",
   "metadata": {},
   "outputs": [
    {
     "name": "stdout",
     "output_type": "stream",
     "text": [
      "2023-06-10 23:14:19,294: \t\t\t INFO:\t common:\t yaml file: config\\config.yaml loaded successfully \n",
      "\n",
      "2023-06-10 23:14:19,297: \t\t\t INFO:\t common:\t yaml file: params.yaml loaded successfully \n",
      "\n",
      "2023-06-10 23:14:19,301: \t\t\t INFO:\t common:\t created directory at: artifacts \n",
      "\n",
      "2023-06-10 23:14:19,305: \t\t\t INFO:\t common:\t created directory at: artifacts/data_ingestion \n",
      "\n"
     ]
    },
    {
     "name": "stdout",
     "output_type": "stream",
     "text": [
      "2023-06-10 23:14:29,237: \t\t\t INFO:\t 1806091137:\t artifacts/data_ingestion/DataSet.zip download from S3 ! with following bucket: cnndataset1 \n",
      "\n"
     ]
    }
   ],
   "source": [
    "try:\n",
    "    config = ConfigurationManager()\n",
    "    data_ingestion_config = config.get_data_ingestion_config()\n",
    "    data_ingestion = DataIngestion(config=data_ingestion_config)\n",
    "    data_ingestion.download_file()\n",
    "    data_ingestion.extract_zip_file()\n",
    "except Exception as e:\n",
    "    raise e"
   ]
  },
  {
   "cell_type": "code",
   "execution_count": null,
   "id": "8775b0ad",
   "metadata": {},
   "outputs": [],
   "source": []
  }
 ],
 "metadata": {
  "kernelspec": {
   "display_name": "Python 3 (ipykernel)",
   "language": "python",
   "name": "python3"
  },
  "language_info": {
   "codemirror_mode": {
    "name": "ipython",
    "version": 3
   },
   "file_extension": ".py",
   "mimetype": "text/x-python",
   "name": "python",
   "nbconvert_exporter": "python",
   "pygments_lexer": "ipython3",
   "version": "3.8.0"
  }
 },
 "nbformat": 4,
 "nbformat_minor": 5
}
